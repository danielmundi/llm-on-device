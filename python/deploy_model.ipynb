{
 "cells": [
  {
   "cell_type": "markdown",
   "metadata": {},
   "source": [
    "#### Plataforma\n",
    "O primeiro passo para realização do deploy é identificar qual plataforma isso será feito. Esse notebook irá apresentar o básico para necessário para utilizar modelos em dispositivos android."
   ]
  },
  {
   "cell_type": "markdown",
   "metadata": {},
   "source": [
    "Já com o `modelo.tflite` convertido, agora precisamos através do interpreter acessar as assinturas e executá-las. Desse modo, para os casos de dispositivos android precisamos realizar os seguintes passos"
   ]
  },
  {
   "cell_type": "markdown",
   "metadata": {},
   "source": [
    "## 1. Adicionar dependências do projeto\n",
    "\n",
    "\n",
    "```java\n",
    "// Biblioteca LiteRT\n",
    "implementation(\"org.tensorflow:tensorflow-lite:2.10.0\")\n",
    "// Adicionar suporte para operações do core tensorflow\n",
    "implementation(\"org.tensorflow:tensorflow-lite-select-tf-ops:2.10.0\")\n",
    "```\n",
    "\n",
    "Você também pode selecionar versões mais recentes adicionando \"+\" ao invés de uma versão especifica"
   ]
  },
  {
   "cell_type": "markdown",
   "metadata": {},
   "source": [
    "## 2. Instânciar um interpreter\n",
    "\n",
    "Você precisa importar a classe no seu código kotlin\n",
    "\n",
    "```java\n",
    "import org.tensorflow.lite.Interpreter\n",
    "```\n",
    "\n",
    "A função abaixo é responsável por inicializar um interpretador LiteRT a partir de um arquivo de modelo especificado.\n",
    "```java\n",
    "let interpreter = try {\n",
    "    val tfliteBuffer = FileUtil.loadMappedFile(context, model.fileName)\n",
    "    Log.i(TAG, \"LiteRT buffer criado a partir de ${model.fileName}\")\n",
    "    Interpreter(tfliteBuffer, Interpreter.Options())\n",
    "} catch (e: Exception) {\n",
    "    Log.e(TAG, \"Falha ao criar LiteRT a partir de ${model.fileName}: ${e.message}\", e)\n",
    "    null\n",
    "}\n",
    "```\n",
    "\n",
    "1. **Carregamento do Arquivo de Modelo:** O primeiro passo dentro do bloco try é carregar o arquivo do modelo utilizando a função FileUtil.loadMappedFile(context, model.fileName). O arquivo do modelo (que pode ser um arquivo .tflite) é carregado em um buffer de memória. O método loadMappedFile mapeia o arquivo para a memória de forma otimizada para uso em dispositivos móveis.\n",
    "\n",
    "2. **Criação do Interpretador:** Depois disso, a função cria uma instância do Interpreter, que é a classe do LiteRT responsável por executar o modelo carregado. O interpretador é inicializado com o buffer de memória carregado (tfliteBuffer) e uma nova instância de Interpreter.Options(). O Options pode ser configurado para customizar o comportamento do interpretador, mas neste caso, está sendo utilizado com as opções padrão."
   ]
  },
  {
   "cell_type": "markdown",
   "metadata": {},
   "source": [
    "## 3. Executar as Assinaturas do Modelo\n",
    "\n",
    "Utilizando o interpretador (`interpreter`), podemos executar as assinaturas do modelo, que são as operações definidas no gráfico computacional do LiteRT. A execução de uma assinatura é realizada por meio da função `runSignature`, que recebe como parâmetros um mapa de entradas (`inputsMap`), um objeto para armazenar as saídas (`outputs`) e o nome da assinatura a ser executada (no caso, `\"infer\"`).\n",
    "\n",
    "A linha de código abaixo exemplifica como essa execução é realizada:\n",
    "\n",
    "```java\n",
    "interpreter.runSignature(inputsMap, outputsMap, \"infer\")\n",
    "```\n",
    "\n",
    "Nesta chamada, o parâmetro `\"infer\"` especifica a assinatura do modelo que será executada, correspondendo à operação de inferência, conforme definida no modelo LiteRT. O inputsMap contém os dados de entrada para o modelo, enquanto outputs armazenará os resultados após a execução da assinatura. Isso permite que o modelo seja executado com dados específicos e produza as saídas necessárias para o inferência ou treinamento."
   ]
  }
 ],
 "metadata": {
  "language_info": {
   "name": "python"
  }
 },
 "nbformat": 4,
 "nbformat_minor": 2
}
